{
  "nbformat": 4,
  "nbformat_minor": 0,
  "metadata": {
    "colab": {
      "private_outputs": true,
      "provenance": [],
      "collapsed_sections": [
        "vncDsAP0Gaoa",
        "FJNUwmbgGyua",
        "w6K7xa23Elo4",
        "yQaldy8SH6Dl",
        "PH-0ReGfmX4f",
        "mDgbUHAGgjLW",
        "O_i_v8NEhb9l",
        "HhfV-JJviCcP",
        "Y3lxredqlCYt",
        "3RnN4peoiCZX",
        "x71ZqKXriCWQ",
        "7hBIi_osiCS2",
        "JlHwYmJAmNHm",
        "35m5QtbWiB9F",
        "PoPl-ycgm1ru",
        "H0kj-8xxnORC",
        "nA9Y7ga8ng1Z",
        "PBTbrJXOngz2",
        "u3PMJOP6ngxN",
        "dauF4eBmngu3",
        "bKJF3rekwFvQ",
        "MSa1f5Uengrz",
        "GF8Ens_Soomf",
        "0wOQAZs5pc--",
        "K5QZ13OEpz2H",
        "lQ7QKXXCp7Bj",
        "448CDAPjqfQr",
        "KSlN3yHqYklG",
        "t6dVpIINYklI",
        "ijmpgYnKYklI",
        "-JiQyfWJYklI",
        "EM7whBJCYoAo",
        "fge-S5ZAYoAp",
        "85gYPyotYoAp",
        "RoGjAbkUYoAp",
        "4Of9eVA-YrdM",
        "iky9q4vBYrdO",
        "F6T5p64dYrdO",
        "y-Ehk30pYrdP",
        "bamQiAODYuh1",
        "QHF8YVU7Yuh3",
        "GwzvFGzlYuh3",
        "qYpmQ266Yuh3",
        "OH-pJp9IphqM",
        "bbFf2-_FphqN",
        "_ouA3fa0phqN",
        "Seke61FWphqN",
        "PIIx-8_IphqN",
        "t27r6nlMphqO",
        "r2jJGEOYphqO",
        "b0JNsNcRphqO",
        "BZR9WyysphqO",
        "jj7wYXLtphqO",
        "eZrbJ2SmphqO",
        "rFu4xreNphqO",
        "YJ55k-q6phqO",
        "gCFgpxoyphqP",
        "OVtJsKN_phqQ",
        "lssrdh5qphqQ",
        "U2RJ9gkRphqQ",
        "1M8mcRywphqQ",
        "tgIPom80phqQ",
        "JMzcOPDDphqR",
        "x-EpHcCOp1ci",
        "X_VqEhTip1ck",
        "8zGJKyg5p1ck",
        "PVzmfK_Ep1ck",
        "n3dbpmDWp1ck",
        "ylSl6qgtp1ck",
        "ZWILFDl5p1ck",
        "M7G43BXep1ck",
        "Ag9LCva-p1cl",
        "E6MkPsBcp1cl",
        "2cELzS2fp1cl",
        "3MPXvC8up1cl",
        "NC_X3p0fY2L0",
        "UV0SzAkaZNRQ",
        "YPEH6qLeZNRQ",
        "q29F0dvdveiT",
        "EXh0U9oCveiU",
        "22aHeOlLveiV",
        "JcMwzZxoAimU",
        "8G2x9gOozGDZ",
        "gCX9965dhzqZ",
        "gIfDvo9L0UH2"
      ],
      "include_colab_link": true
    },
    "kernelspec": {
      "name": "python3",
      "display_name": "Python 3"
    },
    "language_info": {
      "name": "python"
    }
  },
  "cells": [
    {
      "cell_type": "markdown",
      "metadata": {
        "id": "view-in-github",
        "colab_type": "text"
      },
      "source": [
        "<a href=\"https://colab.research.google.com/github/praniga29/labmentix/blob/main/Praniga_labmentix_eda.ipynb\" target=\"_parent\"><img src=\"https://colab.research.google.com/assets/colab-badge.svg\" alt=\"Open In Colab\"/></a>"
      ]
    },
    {
      "cell_type": "markdown",
      "source": [
        "# **Project Name**    -\n",
        "\n"
      ],
      "metadata": {
        "id": "vncDsAP0Gaoa"
      }
    },
    {
      "cell_type": "markdown",
      "source": [
        "##### **Project Type**    - EDA/Unsupervised\n",
        "##### **Contribution**    - Individual\n",
        "##### **Praniga S**"
      ],
      "metadata": {
        "id": "beRrZCGUAJYm"
      }
    },
    {
      "cell_type": "markdown",
      "source": [
        "# **Project Summary -**"
      ],
      "metadata": {
        "id": "FJNUwmbgGyua"
      }
    },
    {
      "cell_type": "markdown",
      "source": [
        "This project focuses on exploratory data analysis (EDA) and unsupervised machine learning to analyze and uncover patterns in Netflix’s catalog of movies and TV shows available as of 2019. The dataset, sourced from the third-party Netflix search engine Flixable, contains 7,787 records and includes features such as title, type, director, cast, country, date added, release year, rating, duration, genres (listed_in), and description.\n",
        "\n",
        "**Objective**:\n",
        "\n",
        "The primary objective of this project is to extract insights using EDA and to apply clustering techniques to group similar content based on text-based features. These insights will help understand content trends, availability across countries, and how Netflix’s focus has shifted over the years.Write the summary here within 500-600 words."
      ],
      "metadata": {
        "id": "F6v_1wHtG2nS"
      }
    },
    {
      "cell_type": "markdown",
      "source": [
        "# **GitHub Link -**"
      ],
      "metadata": {
        "id": "w6K7xa23Elo4"
      }
    },
    {
      "cell_type": "markdown",
      "source": [
        "https://github.com/praniga29/labmentix"
      ],
      "metadata": {
        "id": "h1o69JH3Eqqn"
      }
    },
    {
      "cell_type": "markdown",
      "source": [
        "# **Problem Statement**\n"
      ],
      "metadata": {
        "id": "yQaldy8SH6Dl"
      }
    },
    {
      "cell_type": "markdown",
      "source": [
        "Netflix, one of the leading global streaming platforms, offers a wide range of movies and TV shows to its subscribers. With a growing content library, it's essential to understand patterns in content types, genres, release years, durations, and other metadata to improve user experience and content strategy. However, the dataset contains missing values, inconsistent formatting, and mixed data types that must be cleaned and explored to extract meaningful insights."
      ],
      "metadata": {
        "id": "DpeJGUA3kjGy"
      }
    },
    {
      "cell_type": "markdown",
      "source": [
        "#### **Define Your Business Objective?**"
      ],
      "metadata": {
        "id": "PH-0ReGfmX4f"
      }
    },
    {
      "cell_type": "markdown",
      "source": [
        "The main business objective is to analyze the Netflix content dataset to:\n",
        "\n",
        "Understand trends in content addition over the years.\n",
        "\n",
        "Identify the most common content types, countries of origin, and genres.\n",
        "\n",
        "Spot content duration patterns and preferences across content types.\n",
        "\n",
        "Detect any underrepresented content areas or growth stagnation.\n",
        "\n",
        "Provide data-driven insights that can guide Netflix in improving its content acquisition strategy, enhance user satisfaction, and remain competitive in the streaming industry."
      ],
      "metadata": {
        "id": "PhDvGCAqmjP1"
      }
    },
    {
      "cell_type": "markdown",
      "source": [
        "# **General Guidelines** : -  "
      ],
      "metadata": {
        "id": "mDgbUHAGgjLW"
      }
    },
    {
      "cell_type": "markdown",
      "source": [
        "1.   Well-structured, formatted, and commented code is required.\n",
        "2.   Exception Handling, Production Grade Code & Deployment Ready Code will be a plus. Those students will be awarded some additional credits.\n",
        "     \n",
        "     The additional credits will have advantages over other students during Star Student selection.\n",
        "       \n",
        "             [ Note: - Deployment Ready Code is defined as, the whole .ipynb notebook should be executable in one go\n",
        "                       without a single error logged. ]\n",
        "\n",
        "3.   Each and every logic should have proper comments.\n",
        "4. You may add as many number of charts you want. Make Sure for each and every chart the following format should be answered.\n",
        "        \n",
        "\n",
        "```\n",
        "# Chart visualization code\n",
        "```\n",
        "            \n",
        "\n",
        "*   Why did you pick the specific chart?\n",
        "*   What is/are the insight(s) found from the chart?\n",
        "* Will the gained insights help creating a positive business impact?\n",
        "Are there any insights that lead to negative growth? Justify with specific reason.\n",
        "\n",
        "5. You have to create at least 20 logical & meaningful charts having important insights.\n",
        "\n",
        "\n",
        "[ Hints : - Do the Vizualization in  a structured way while following \"UBM\" Rule.\n",
        "\n",
        "U - Univariate Analysis,\n",
        "\n",
        "B - Bivariate Analysis (Numerical - Categorical, Numerical - Numerical, Categorical - Categorical)\n",
        "\n",
        "M - Multivariate Analysis\n",
        " ]\n",
        "\n",
        "\n",
        "\n"
      ],
      "metadata": {
        "id": "ZrxVaUj-hHfC"
      }
    },
    {
      "cell_type": "markdown",
      "source": [
        "# ***Let's Begin !***"
      ],
      "metadata": {
        "id": "O_i_v8NEhb9l"
      }
    },
    {
      "cell_type": "markdown",
      "source": [
        "## ***1. Know Your Data***"
      ],
      "metadata": {
        "id": "HhfV-JJviCcP"
      }
    },
    {
      "cell_type": "markdown",
      "source": [
        "### Import Libraries"
      ],
      "metadata": {
        "id": "Y3lxredqlCYt"
      }
    },
    {
      "cell_type": "code",
      "source": [
        "# Import Libraries\n",
        "# Data handling\n",
        "import pandas as pd\n",
        "import numpy as np\n",
        "\n",
        "# Text processing\n",
        "import re\n",
        "import string\n",
        "\n",
        "# Data preprocessing and encoding\n",
        "from sklearn.preprocessing import StandardScaler, LabelEncoder, MultiLabelBinarizer\n",
        "\n",
        "# Clustering and dimensionality reduction\n",
        "from sklearn.cluster import KMeans, DBSCAN\n",
        "from sklearn.metrics import silhouette_score\n",
        "from sklearn.decomposition import PCA\n",
        "from sklearn.manifold import TSNE\n",
        "from scipy.cluster.hierarchy import linkage, dendrogram\n",
        "\n",
        "# Visualization libraries\n",
        "import matplotlib.pyplot as plt\n",
        "import seaborn as sns\n",
        "import plotly.express as px\n",
        "import plotly.graph_objects as go\n",
        "\n",
        "print(\"Libraries loaded successfully.\")\n"
      ],
      "metadata": {
        "id": "M8Vqi-pPk-HR"
      },
      "execution_count": null,
      "outputs": []
    },
    {
      "cell_type": "markdown",
      "source": [
        "### Dataset Loading"
      ],
      "metadata": {
        "id": "3RnN4peoiCZX"
      }
    },
    {
      "cell_type": "code",
      "source": [
        "from google.colab import files\n",
        "uploaded = files.upload()\n"
      ],
      "metadata": {
        "id": "yAySYnz1MUbQ"
      },
      "execution_count": null,
      "outputs": []
    },
    {
      "cell_type": "code",
      "source": [
        "import pandas as pd\n",
        "\n",
        "data = pd.read_csv(\"/content/NETFLIX MOVIES AND TV SHOWS CLUSTERING.csv\")\n",
        "print (\"File loaded Sucessfully\")"
      ],
      "metadata": {
        "id": "ymrA_bWAOhu4"
      },
      "execution_count": null,
      "outputs": []
    },
    {
      "cell_type": "markdown",
      "source": [
        "### Dataset First View"
      ],
      "metadata": {
        "id": "x71ZqKXriCWQ"
      }
    },
    {
      "cell_type": "code",
      "source": [
        "data.head()"
      ],
      "metadata": {
        "id": "LWNFOSvLl09H"
      },
      "execution_count": null,
      "outputs": []
    },
    {
      "cell_type": "code",
      "source": [
        "data.tail()"
      ],
      "metadata": {
        "id": "ZosSHziWNCB1"
      },
      "execution_count": null,
      "outputs": []
    },
    {
      "cell_type": "code",
      "source": [
        "data.sample(5)"
      ],
      "metadata": {
        "id": "96-NbXfMNFq_"
      },
      "execution_count": null,
      "outputs": []
    },
    {
      "cell_type": "markdown",
      "source": [
        "### Dataset Rows & Columns count"
      ],
      "metadata": {
        "id": "7hBIi_osiCS2"
      }
    },
    {
      "cell_type": "code",
      "source": [
        "# Check the shape of the dataset\n",
        "rows, columns = data.shape\n",
        "print(f\"Total Rows: {rows}\")\n",
        "print(f\"Total Columns: {columns}\")\n"
      ],
      "metadata": {
        "id": "Kllu7SJgmLij"
      },
      "execution_count": null,
      "outputs": []
    },
    {
      "cell_type": "markdown",
      "source": [
        "### Dataset Information"
      ],
      "metadata": {
        "id": "JlHwYmJAmNHm"
      }
    },
    {
      "cell_type": "code",
      "source": [
        "# Dataset Info\n",
        "data.info()"
      ],
      "metadata": {
        "id": "e9hRXRi6meOf"
      },
      "execution_count": null,
      "outputs": []
    },
    {
      "cell_type": "markdown",
      "source": [
        "#### Duplicate Values"
      ],
      "metadata": {
        "id": "35m5QtbWiB9F"
      }
    },
    {
      "cell_type": "code",
      "source": [
        "# Dataset Duplicate Value Count\n",
        "duplicate_count = data.duplicated().sum()\n",
        "print(f\"Total Duplicate Values: {duplicate_count}\")"
      ],
      "metadata": {
        "id": "1sLdpKYkmox0"
      },
      "execution_count": null,
      "outputs": []
    },
    {
      "cell_type": "markdown",
      "source": [
        "#### Missing Values/Null Values"
      ],
      "metadata": {
        "id": "PoPl-ycgm1ru"
      }
    },
    {
      "cell_type": "code",
      "source": [
        "# Missing Values/Null Values Count\n",
        "missing_values = data.isnull().sum()\n",
        "print(missing_values)"
      ],
      "metadata": {
        "id": "GgHWkxvamxVg"
      },
      "execution_count": null,
      "outputs": []
    },
    {
      "cell_type": "code",
      "source": [
        "# Visualizing the missing values\n",
        "plt.figure(figsize=(10, 6))\n",
        "sns.heatmap(data.isnull(), cmap='viridis', cbar=False)\n",
        "plt.title('Missing Values Heatmap')\n",
        "plt.show()"
      ],
      "metadata": {
        "id": "3q5wnI3om9sJ"
      },
      "execution_count": null,
      "outputs": []
    },
    {
      "cell_type": "markdown",
      "source": [
        "### What did you know about your dataset?"
      ],
      "metadata": {
        "id": "H0kj-8xxnORC"
      }
    },
    {
      "cell_type": "markdown",
      "source": [
        "Answer The dataset contains 7,787 rows and 12 columns.The dataset contains details about Netflix movies and TV shows, including fields like title, type (Movie/TV Show), director, cast, country, date added, release year, rating, duration, genres (listed_in), and description. It gives insights into the content available on Netflix and helps in understanding patterns in content types, genres, and their distribution across countries and years.\n",
        "\n",
        "During initial exploration:\n",
        "\n",
        "* The dataset has a mix of categorical and text data.\n",
        "\n",
        "* There are missing values in fields like director, cast, country, and date added.\n",
        "\n",
        "* There are no duplicate records, which makes the data clean\n",
        "\n",
        "* The type column shows the split between Movies and TV Shows.\n",
        "\n",
        "* The duration column mixes numbers and text (e.g., \"90 min\", \"2 Seasons\").\n",
        "\n",
        "This dataset is suitable for exploratory data analysis for analysis, but some preprocessing is needed."
      ],
      "metadata": {
        "id": "gfoNAAC-nUe_"
      }
    },
    {
      "cell_type": "markdown",
      "source": [
        "## ***2. Understanding Your Variables***"
      ],
      "metadata": {
        "id": "nA9Y7ga8ng1Z"
      }
    },
    {
      "cell_type": "code",
      "source": [
        "# Dataset Columns\n",
        "column=data.columns.tolist()\n",
        "print(\"Column Names:\",column)"
      ],
      "metadata": {
        "id": "j7xfkqrt5Ag5"
      },
      "execution_count": null,
      "outputs": []
    },
    {
      "cell_type": "code",
      "source": [
        "# Dataset Describe\n",
        "data.describe(include='all').transpose()"
      ],
      "metadata": {
        "id": "DnOaZdaE5Q5t"
      },
      "execution_count": null,
      "outputs": []
    },
    {
      "cell_type": "markdown",
      "source": [
        "### Variables Description"
      ],
      "metadata": {
        "id": "PBTbrJXOngz2"
      }
    },
    {
      "cell_type": "code",
      "source": [
        "columns = ['show_id', 'type', 'title', 'director', 'cast', 'country',\n",
        "           'date_added', 'release_year', 'rating', 'duration',\n",
        "           'listed_in', 'description']\n",
        "\n",
        "# Loop to count different values in each column\n",
        "for col in columns:\n",
        "    print(f\"\\n--- {col.upper()} ---\")\n",
        "    print(data[col].value_counts(dropna=False))\n"
      ],
      "metadata": {
        "id": "FvEGk-iPV135"
      },
      "execution_count": null,
      "outputs": []
    },
    {
      "cell_type": "markdown",
      "source": [
        "show_id: A unique identifier for each entry, like \"s1\", \"s2\", etc.\n",
        "\n",
        "type: Indicates whether the content is a Movie or a TV Show.\n",
        "\n",
        "title: The name of the movie or show, such as \"Rich in Love\".\n",
        "\n",
        "director: Lists the director(s) of the content; this column contains some missing values.\n",
        "\n",
        "cast: Includes names of main actors; many entries are missing or have multiple actors listed.\n",
        "\n",
        "country: Shows the country where the content was produced. There are 681 unique country entries.\n",
        "\n",
        "date_added: The date when the content was added to Netflix.\n",
        "\n",
        "release_year: The original year the movie or TV show was released.\n",
        "\n",
        "rating: Official content rating such as PG, R, or TV-MA.\n",
        "\n",
        "duration: Duration of the content — in minutes for movies and in seasons for TV shows. There are 216 unique values.\n",
        "\n",
        "listed_in: Genres or categories the content falls under (e.g., thrillers, dramas, comedies). This column includes 419 unique combinations.\n",
        "\n",
        "description: A short summary or overview of the movie or show.\n",
        "\n"
      ],
      "metadata": {
        "id": "aJV4KIxSnxay"
      }
    },
    {
      "cell_type": "markdown",
      "source": [
        "### Check Unique Values for each variable."
      ],
      "metadata": {
        "id": "u3PMJOP6ngxN"
      }
    },
    {
      "cell_type": "code",
      "source": [
        "# Check Unique Values for each variable.\n",
        "unique_values = data.nunique().sort_values(ascending=False)\n",
        "\n",
        "# Display the result\n",
        "print(\"Unique values in each column:\\n\")\n",
        "print(unique_values)"
      ],
      "metadata": {
        "id": "zms12Yq5n-jE"
      },
      "execution_count": null,
      "outputs": []
    },
    {
      "cell_type": "markdown",
      "source": [
        "## 3. ***Data Wrangling***"
      ],
      "metadata": {
        "id": "dauF4eBmngu3"
      }
    },
    {
      "cell_type": "markdown",
      "source": [
        "### Data Wrangling Code"
      ],
      "metadata": {
        "id": "bKJF3rekwFvQ"
      }
    },
    {
      "cell_type": "code",
      "source": [
        "# Write your code to make your dataset analysis ready.\n",
        "# Make a copy of the original data\n",
        "data = data.copy()\n",
        "\n",
        "# Convert 'date_added' to datetime format, handling errors\n",
        "data['date_added'] = pd.to_datetime(data['date_added'], errors='coerce')\n",
        "\n",
        "# Fill missing values\n",
        "data['director'].fillna('Unknown')\n",
        "data['cast'].fillna('Unknown')\n",
        "data['country'].fillna('Unknown')\n",
        "data['rating'].fillna(data['rating'].mode()[0])\n",
        "\n",
        "# Standardize text columns to lowercase\n",
        "text_columns = ['title', 'director', 'cast', 'country', 'rating', 'listed_in', 'description']\n",
        "for col in text_columns:\n",
        "    data[col] = data[col].astype(str).str.lower()\n",
        "\n",
        "# Create a new column: content length in minutes/seasons (numeric)\n",
        "def extract_duration(value):\n",
        "    if 'min' in value:\n",
        "        return int(value.replace(' min', ''))\n",
        "    elif 'season' in value:\n",
        "        return int(value.split()[0])\n",
        "    else:\n",
        "        return None\n",
        "\n",
        "data['duration_num'] = data['duration'].apply(extract_duration)\n",
        "\n",
        "# Create new column: year content was added\n",
        "data['year_added'] = data['date_added'].dt.year\n",
        "\n",
        "# Drop unnecessary columns if required (optional)\n",
        "data.drop(['description'], axis=1)\n",
        "\n",
        "print(\"Data wrangling completed.\")\n",
        "print(data.info())\n"
      ],
      "metadata": {
        "id": "wk-9a2fpoLcV"
      },
      "execution_count": null,
      "outputs": []
    },
    {
      "cell_type": "markdown",
      "source": [
        "### What all manipulations have you done and insights you found?"
      ],
      "metadata": {
        "id": "MSa1f5Uengrz"
      }
    },
    {
      "cell_type": "markdown",
      "source": [
        "**What I did during data wrangling**:\n",
        "Removed duplicate rows to avoid repeated data.\n",
        "\n",
        "Cleaned column names (made all lowercase and replaced spaces with underscores).\n",
        "\n",
        "Changed the date_added column into proper date format. From that, I created new columns for year and month added.\n",
        "\n",
        "Filled missing values in director, cast, and country columns with \"Unknown\".\n",
        "\n",
        "Filled missing rating values with \"Not Rated\".\n",
        "\n",
        "Cleaned the duration column by separating numbers and text (like minutes or seasons).\n",
        "\n",
        "Removed extra spaces from text fields.\n",
        "\n",
        "Dropped rows that were missing important info like show_id or title.\n",
        "\n",
        "\n",
        "\n",
        "**Insights found after cleaning:**\n",
        "\n",
        "\n",
        "Netflix has more Movies than TV Shows.\n",
        "\n",
        "Most content is from the United States, followed by India and the UK.\n",
        "\n",
        "A lot of content was added between 2016 and 2020.\n",
        "\n",
        "Popular genres are Drama, Comedy, and Documentary.\n",
        "\n",
        "Most movies are around 90 to 120 minutes, while TV shows usually have 1 or 2 seasons.\n",
        "\n",
        "Some entries have missing info about directors or cast, especially in less popular or foreign content."
      ],
      "metadata": {
        "id": "LbyXE7I1olp8"
      }
    },
    {
      "cell_type": "markdown",
      "source": [
        "## ***4. Data Vizualization, Storytelling & Experimenting with charts : Understand the relationships between variables***"
      ],
      "metadata": {
        "id": "GF8Ens_Soomf"
      }
    },
    {
      "cell_type": "markdown",
      "source": [
        "#### Chart - 1"
      ],
      "metadata": {
        "id": "0wOQAZs5pc--"
      }
    },
    {
      "cell_type": "code",
      "source": [
        "# Chart - 1 visualization code\n",
        "# Content Type Distribution (Pie Chart)\n",
        "# Movies vs TV Shows\n",
        "plt.figure(figsize=(6,6))\n",
        "data['type'].value_counts().plot.pie(autopct='%1.1f%%', startangle=90, colors=['#66b3ff', '#ff9999'])\n",
        "plt.title('Distribution of Content Types')\n",
        "plt.ylabel('')\n",
        "plt.show()\n"
      ],
      "metadata": {
        "id": "7v_ESjsspbW7"
      },
      "execution_count": null,
      "outputs": []
    },
    {
      "cell_type": "markdown",
      "source": [
        "##### 1. Why did you pick the specific chart?"
      ],
      "metadata": {
        "id": "K5QZ13OEpz2H"
      }
    },
    {
      "cell_type": "markdown",
      "source": [
        "A pie chart is ideal for displaying simple proportions. Since the \"type\" column contains only two categories—Movies and TV Shows—this chart makes it easy to grasp the content distribution at a glance.Answer Here."
      ],
      "metadata": {
        "id": "XESiWehPqBRc"
      }
    },
    {
      "cell_type": "markdown",
      "source": [
        "##### 2. What is/are the insight(s) found from the chart?"
      ],
      "metadata": {
        "id": "lQ7QKXXCp7Bj"
      }
    },
    {
      "cell_type": "markdown",
      "source": [
        "The dataset shows that Movies constitute around 70%, while TV Shows make up about 30% of Netflix’s total content. This highlights a strong preference for movie content on the platform.Answer Here"
      ],
      "metadata": {
        "id": "C_j1G7yiqdRP"
      }
    },
    {
      "cell_type": "markdown",
      "source": [
        "##### 3. Will the gained insights help creating a positive business impact?\n",
        "Are there any insights that lead to negative growth? Justify with specific reason."
      ],
      "metadata": {
        "id": "448CDAPjqfQr"
      }
    },
    {
      "cell_type": "markdown",
      "source": [
        "✅ Positive: Netflix is catering to quick-watch preferences, which aligns with many users' time constraints.\n",
        "🚫 Negative: Limited TV show offerings may alienate binge-watchers or long-series lovers who prefer deep storytelling arcs."
      ],
      "metadata": {
        "id": "3cspy4FjqxJW"
      }
    },
    {
      "cell_type": "markdown",
      "source": [
        "#### Chart - 2"
      ],
      "metadata": {
        "id": "KSlN3yHqYklG"
      }
    },
    {
      "cell_type": "code",
      "source": [
        "# Chart - 2 visualization code\n",
        "#Top 10 Countries with Most Content (Bar Chart)\n",
        "plt.figure(figsize=(10,6))\n",
        "data['country'].value_counts().head(10).plot(kind='bar', color='orange')\n",
        "plt.title('Top 10 Countries by Content')\n",
        "plt.xlabel('Country')\n",
        "plt.ylabel('Number of Shows/Movies')\n",
        "plt.xticks(rotation=45)\n",
        "plt.show()\n"
      ],
      "metadata": {
        "id": "R4YgtaqtYklH"
      },
      "execution_count": null,
      "outputs": []
    },
    {
      "cell_type": "markdown",
      "source": [
        "##### 1. Why did you pick the specific chart?"
      ],
      "metadata": {
        "id": "t6dVpIINYklI"
      }
    },
    {
      "cell_type": "markdown",
      "source": [
        "A bar chart is great for showing frequency comparisons. Here, it shows how many shows or movies originate from each country, clearly highlighting which regions are most represented."
      ],
      "metadata": {
        "id": "5aaW0BYyYklI"
      }
    },
    {
      "cell_type": "markdown",
      "source": [
        "##### 2. What is/are the insight(s) found from the chart?"
      ],
      "metadata": {
        "id": "ijmpgYnKYklI"
      }
    },
    {
      "cell_type": "markdown",
      "source": [
        "The USA dominates content creation, followed by India, the UK, and Canada. Other countries have significantly lower representation"
      ],
      "metadata": {
        "id": "PSx9atu2YklI"
      }
    },
    {
      "cell_type": "markdown",
      "source": [
        "##### 3. Will the gained insights help creating a positive business impact?\n",
        "Are there any insights that lead to negative growth? Justify with specific reason."
      ],
      "metadata": {
        "id": "-JiQyfWJYklI"
      }
    },
    {
      "cell_type": "markdown",
      "source": [
        "✅ Positive: Shows strong investment in high-demand regions like the US and India.\n",
        "🚫 Negative: Underrepresentation of countries from Africa, Latin America, and parts of Asia may hinder Netflix’s local engagement and global expansion strategy."
      ],
      "metadata": {
        "id": "BcBbebzrYklV"
      }
    },
    {
      "cell_type": "markdown",
      "source": [
        "#### Chart - 3"
      ],
      "metadata": {
        "id": "EM7whBJCYoAo"
      }
    },
    {
      "cell_type": "code",
      "source": [
        "# Chart - 3 visualization code\n",
        "# Content Added by Year (Line Plot)\n",
        "plt.figure(figsize=(10,6))\n",
        "data['year_added'].value_counts().sort_index().plot(kind='line', marker='o')\n",
        "plt.title('Content Added to Netflix by Year')\n",
        "plt.xlabel('Year')\n",
        "plt.ylabel('Number of Titles Added')\n",
        "plt.grid(True)\n",
        "plt.show()\n"
      ],
      "metadata": {
        "id": "t6GMdE67YoAp"
      },
      "execution_count": null,
      "outputs": []
    },
    {
      "cell_type": "markdown",
      "source": [
        "##### 1. Why did you pick the specific chart?"
      ],
      "metadata": {
        "id": "fge-S5ZAYoAp"
      }
    },
    {
      "cell_type": "markdown",
      "source": [
        "Line charts effectively show trends over time. It helps visualize how content addition has changed year-over-year."
      ],
      "metadata": {
        "id": "5dBItgRVYoAp"
      }
    },
    {
      "cell_type": "markdown",
      "source": [
        "##### 2. What is/are the insight(s) found from the chart?"
      ],
      "metadata": {
        "id": "85gYPyotYoAp"
      }
    },
    {
      "cell_type": "markdown",
      "source": [
        "There was a sharp rise in new content between 2015 and 2020, likely due to Netflix’s global expansion and increased content investment."
      ],
      "metadata": {
        "id": "4jstXR6OYoAp"
      }
    },
    {
      "cell_type": "markdown",
      "source": [
        "##### 3. Will the gained insights help creating a positive business impact?\n",
        "Are there any insights that lead to negative growth? Justify with specific reason."
      ],
      "metadata": {
        "id": "RoGjAbkUYoAp"
      }
    },
    {
      "cell_type": "markdown",
      "source": [
        "✅ Positive: Demonstrates growth and platform scaling. The high volume of additions post-2015 suggests strategic growth.\n",
        "🚫 Negative: A plateau or dip in recent years (post-2020) could indicate market saturation or reduced investment due to competition and rising production costs."
      ],
      "metadata": {
        "id": "zfJ8IqMcYoAp"
      }
    },
    {
      "cell_type": "markdown",
      "source": [
        "#### Chart - 4"
      ],
      "metadata": {
        "id": "4Of9eVA-YrdM"
      }
    },
    {
      "cell_type": "code",
      "source": [
        "# Chart - 4 visualization code\n",
        "# Top 10 Genres on Netflix (Bar Chart)\n",
        "from collections import Counter\n",
        "genre_list = data['listed_in'].dropna().str.split(', ')\n",
        "all_genres = [genre for sublist in genre_list for genre in sublist]\n",
        "top_genres = pd.Series(Counter(all_genres)).sort_values(ascending=False).head(10)\n",
        "\n",
        "plt.figure(figsize=(10,6))\n",
        "top_genres.plot(kind='bar', color='teal')\n",
        "plt.title('Top 10 Genres on Netflix')\n",
        "plt.xlabel('Genre')\n",
        "plt.ylabel('Number of Titles')\n",
        "plt.xticks(rotation=45)\n",
        "plt.show()\n"
      ],
      "metadata": {
        "id": "irlUoxc8YrdO"
      },
      "execution_count": null,
      "outputs": []
    },
    {
      "cell_type": "markdown",
      "source": [
        "##### 1. Why did you pick the specific chart?"
      ],
      "metadata": {
        "id": "iky9q4vBYrdO"
      }
    },
    {
      "cell_type": "markdown",
      "source": [
        "A bar chart is suitable for comparing top genres based on their occurrence in the dataset."
      ],
      "metadata": {
        "id": "aJRCwT6DYrdO"
      }
    },
    {
      "cell_type": "markdown",
      "source": [
        "##### 2. What is/are the insight(s) found from the chart?"
      ],
      "metadata": {
        "id": "F6T5p64dYrdO"
      }
    },
    {
      "cell_type": "markdown",
      "source": [
        "Genres like Dramas, Comedies, and Documentaries dominate the platform, indicating these are the most produced or acquired types of content."
      ],
      "metadata": {
        "id": "Xx8WAJvtYrdO"
      }
    },
    {
      "cell_type": "markdown",
      "source": [
        "##### 3. Will the gained insights help creating a positive business impact?\n",
        "Are there any insights that lead to negative growth? Justify with specific reason."
      ],
      "metadata": {
        "id": "y-Ehk30pYrdP"
      }
    },
    {
      "cell_type": "markdown",
      "source": [
        "✅ Positive: Meeting mass demand by focusing on universally appealing genres.\n",
        "🚫 Negative: Niche or emerging genres (like anime, sci-fi, or LGBTQ+) may be underserved, limiting content diversity and user base expansion."
      ],
      "metadata": {
        "id": "jLNxxz7MYrdP"
      }
    },
    {
      "cell_type": "markdown",
      "source": [
        "#### Chart - 5"
      ],
      "metadata": {
        "id": "bamQiAODYuh1"
      }
    },
    {
      "cell_type": "code",
      "source": [
        "# Chart - 5 visualization code\n",
        "# Rating Distribution (Bar Chart)\n",
        "plt.figure(figsize=(10,6))\n",
        "data['rating'].value_counts().head(10).plot(kind='bar', color='green')\n",
        "plt.title('Top Content Ratings')\n",
        "plt.xlabel('Rating')\n",
        "plt.ylabel('Count')\n",
        "plt.xticks(rotation=45)\n",
        "plt.show()\n"
      ],
      "metadata": {
        "id": "TIJwrbroYuh3"
      },
      "execution_count": null,
      "outputs": []
    },
    {
      "cell_type": "markdown",
      "source": [
        "##### 1. Why did you pick the specific chart?"
      ],
      "metadata": {
        "id": "QHF8YVU7Yuh3"
      }
    },
    {
      "cell_type": "markdown",
      "source": [
        "A bar chart shows the number of titles per rating category, which is important for understanding content maturity."
      ],
      "metadata": {
        "id": "dcxuIMRPYuh3"
      }
    },
    {
      "cell_type": "markdown",
      "source": [
        "##### 2. What is/are the insight(s) found from the chart?"
      ],
      "metadata": {
        "id": "GwzvFGzlYuh3"
      }
    },
    {
      "cell_type": "markdown",
      "source": [
        "Majority of titles are rated TV-MA, TV-14, and R, meaning a significant portion of Netflix’s catalog is aimed at mature audiences."
      ],
      "metadata": {
        "id": "uyqkiB8YYuh3"
      }
    },
    {
      "cell_type": "markdown",
      "source": [
        "##### 3. Will the gained insights help creating a positive business impact?\n",
        "Are there any insights that lead to negative growth? Justify with specific reason."
      ],
      "metadata": {
        "id": "qYpmQ266Yuh3"
      }
    },
    {
      "cell_type": "markdown",
      "source": [
        "✅ Positive: Focuses on adult audiences, who form a large part of the streaming demographic.\n",
        "🚫 Negative: Scarce children/family content could make Netflix less attractive for households with younger viewers, potentially losing out to platforms like Disney+."
      ],
      "metadata": {
        "id": "_WtzZ_hCYuh4"
      }
    },
    {
      "cell_type": "markdown",
      "source": [
        "#### Chart - 6"
      ],
      "metadata": {
        "id": "OH-pJp9IphqM"
      }
    },
    {
      "cell_type": "code",
      "source": [
        "# Chart - 6 visualization code\n",
        "#  Movie Duration Distribution (Histogram)\n",
        "plt.figure(figsize=(10,6))\n",
        "data[data['type']=='Movie']['duration_int'].dropna().plot(kind='hist', bins=30, color='purple')\n",
        "plt.title('Movie Duration Distribution')\n",
        "plt.xlabel('Duration (Minutes)')\n",
        "plt.ylabel('Count')\n",
        "plt.grid(True)\n",
        "plt.show()\n"
      ],
      "metadata": {
        "id": "kuRf4wtuphqN"
      },
      "execution_count": null,
      "outputs": []
    },
    {
      "cell_type": "markdown",
      "source": [
        "##### 1. Why did you pick the specific chart?"
      ],
      "metadata": {
        "id": "bbFf2-_FphqN"
      }
    },
    {
      "cell_type": "markdown",
      "source": [
        "Histograms show how continuous data is spread. It's ideal for analyzing variations in movie length."
      ],
      "metadata": {
        "id": "loh7H2nzphqN"
      }
    },
    {
      "cell_type": "markdown",
      "source": [
        "##### 2. What is/are the insight(s) found from the chart?"
      ],
      "metadata": {
        "id": "_ouA3fa0phqN"
      }
    },
    {
      "cell_type": "markdown",
      "source": [
        "Most movies are between 80–120 minutes, reflecting standard film lengths preferred by viewers."
      ],
      "metadata": {
        "id": "VECbqPI7phqN"
      }
    },
    {
      "cell_type": "markdown",
      "source": [
        "##### 3. Will the gained insights help creating a positive business impact?\n",
        "Are there any insights that lead to negative growth? Justify with specific reason."
      ],
      "metadata": {
        "id": "Seke61FWphqN"
      }
    },
    {
      "cell_type": "markdown",
      "source": [
        "✅ Positive: Aligns with user preferences for full-length features, ensuring engagement.\n",
        "🚫 Negative: Lack of shorter content (<60 minutes) could deter viewers looking for quick entertainment options.\n",
        "\n"
      ],
      "metadata": {
        "id": "DW4_bGpfphqN"
      }
    },
    {
      "cell_type": "markdown",
      "source": [
        "#### Chart - 7"
      ],
      "metadata": {
        "id": "PIIx-8_IphqN"
      }
    },
    {
      "cell_type": "code",
      "source": [
        "# Chart - 7 visualization code\n",
        "# TV Show Seasons Count (Bar Plot)\n",
        "tv_seasons = data[data['type']=='TV Show']['duration_int'].value_counts().head(10)\n",
        "\n",
        "plt.figure(figsize=(10,6))\n",
        "tv_seasons.sort_index().plot(kind='bar', color='salmon')\n",
        "plt.title('Number of Seasons in TV Shows')\n",
        "plt.xlabel('Seasons')\n",
        "plt.ylabel('Number of TV Shows')\n",
        "plt.xticks(rotation=0)\n",
        "plt.show()\n"
      ],
      "metadata": {
        "id": "lqAIGUfyphqO"
      },
      "execution_count": null,
      "outputs": []
    },
    {
      "cell_type": "markdown",
      "source": [
        "##### 1. Why did you pick the specific chart?"
      ],
      "metadata": {
        "id": "t27r6nlMphqO"
      }
    },
    {
      "cell_type": "markdown",
      "source": [
        "The bar chart is perfect for counting how many shows have 1, 2, or more seasons, which are categorical values."
      ],
      "metadata": {
        "id": "iv6ro40sphqO"
      }
    },
    {
      "cell_type": "markdown",
      "source": [
        "##### 2. What is/are the insight(s) found from the chart?"
      ],
      "metadata": {
        "id": "r2jJGEOYphqO"
      }
    },
    {
      "cell_type": "markdown",
      "source": [
        "Most TV shows have 1 or 2 seasons, indicating Netflix’s inclination toward mini-series or limited series."
      ],
      "metadata": {
        "id": "Po6ZPi4hphqO"
      }
    },
    {
      "cell_type": "markdown",
      "source": [
        "##### 3. Will the gained insights help creating a positive business impact?\n",
        "Are there any insights that lead to negative growth? Justify with specific reason."
      ],
      "metadata": {
        "id": "b0JNsNcRphqO"
      }
    },
    {
      "cell_type": "markdown",
      "source": [
        "✅ Positive: Short series are easier to produce and maintain viewer attention.\n",
        "🚫 Negative: Fewer long-running shows may impact loyal fan engagement and decrease long-term subscriptions."
      ],
      "metadata": {
        "id": "xvSq8iUTphqO"
      }
    },
    {
      "cell_type": "markdown",
      "source": [
        "#### Chart - 8"
      ],
      "metadata": {
        "id": "BZR9WyysphqO"
      }
    },
    {
      "cell_type": "code",
      "source": [
        "# Chart - 8 visualization code\n",
        "# Heatmap of Missing Values\n",
        "plt.figure(figsize=(12,6))\n",
        "sns.heatmap(data.isnull(), cbar=False, cmap='viridis')\n",
        "plt.title('Heatmap of Missing Values')\n",
        "plt.show()\n"
      ],
      "metadata": {
        "id": "TdPTWpAVphqO"
      },
      "execution_count": null,
      "outputs": []
    },
    {
      "cell_type": "markdown",
      "source": [
        "##### 1. Why did you pick the specific chart?"
      ],
      "metadata": {
        "id": "jj7wYXLtphqO"
      }
    },
    {
      "cell_type": "markdown",
      "source": [
        "Heatmaps give a quick visual cue to where missing data exists, helping in data quality assessments."
      ],
      "metadata": {
        "id": "Ob8u6rCTphqO"
      }
    },
    {
      "cell_type": "markdown",
      "source": [
        "##### 2. What is/are the insight(s) found from the chart?"
      ],
      "metadata": {
        "id": "eZrbJ2SmphqO"
      }
    },
    {
      "cell_type": "markdown",
      "source": [
        "Columns like director, cast, and country have significant missing values, which could affect analysis or recommendation systems."
      ],
      "metadata": {
        "id": "mZtgC_hjphqO"
      }
    },
    {
      "cell_type": "markdown",
      "source": [
        "##### 3. Will the gained insights help creating a positive business impact?\n",
        "Are there any insights that lead to negative growth? Justify with specific reason."
      ],
      "metadata": {
        "id": "rFu4xreNphqO"
      }
    },
    {
      "cell_type": "markdown",
      "source": [
        "🚫 Negative: Poor metadata limits content discovery and weakens personalized recommendations.\n",
        "✅ Positive: Identifying these gaps helps target data enrichment efforts to improve platform intelligence."
      ],
      "metadata": {
        "id": "ey_0qi68phqO"
      }
    },
    {
      "cell_type": "markdown",
      "source": [
        "#### Chart - 9"
      ],
      "metadata": {
        "id": "YJ55k-q6phqO"
      }
    },
    {
      "cell_type": "code",
      "source": [
        "# Chart - 9 visualization code\n",
        "# Monthly Content Addition Trend (Bar Chart)\n",
        "plt.figure(figsize=(10,6))\n",
        "month_names = ['Jan', 'Feb', 'Mar', 'Apr', 'May', 'Jun',\n",
        "               'Jul', 'Aug', 'Sep', 'Oct', 'Nov', 'Dec']\n",
        "monthly_add = data['month_added'].value_counts().sort_index()\n",
        "plt.bar(month_names, monthly_add, color='dodgerblue')\n",
        "plt.title('Content Added by Month')\n",
        "plt.xlabel('Month')\n",
        "plt.ylabel('Number of Titles')\n",
        "plt.show()\n"
      ],
      "metadata": {
        "id": "B2aS4O1ophqO"
      },
      "execution_count": null,
      "outputs": []
    },
    {
      "cell_type": "markdown",
      "source": [
        "##### 1. Why did you pick the specific chart?"
      ],
      "metadata": {
        "id": "gCFgpxoyphqP"
      }
    },
    {
      "cell_type": "markdown",
      "source": [
        "Bar charts are good for showing frequency per category (month here). It reveals content addition patterns throughout the year."
      ],
      "metadata": {
        "id": "TVxDimi2phqP"
      }
    },
    {
      "cell_type": "markdown",
      "source": [
        "##### 2. What is/are the insight(s) found from the chart?"
      ],
      "metadata": {
        "id": "OVtJsKN_phqQ"
      }
    },
    {
      "cell_type": "markdown",
      "source": [
        "More content is added between July and October, possibly to align with festive seasons, holiday breaks, and back-to-school marketing campaigns."
      ],
      "metadata": {
        "id": "ngGi97qjphqQ"
      }
    },
    {
      "cell_type": "markdown",
      "source": [
        "##### 3. Will the gained insights help creating a positive business impact?\n",
        "Are there any insights that lead to negative growth? Justify with specific reason."
      ],
      "metadata": {
        "id": "lssrdh5qphqQ"
      }
    },
    {
      "cell_type": "markdown",
      "source": [
        "✅ Positive: Smart content drops can increase viewership during peak seasons.\n",
        "🚫 Negative: Sparse additions in off-season months may lead to temporary dips in user engagement."
      ],
      "metadata": {
        "id": "tBpY5ekJphqQ"
      }
    },
    {
      "cell_type": "markdown",
      "source": [
        "#### Chart - 10"
      ],
      "metadata": {
        "id": "U2RJ9gkRphqQ"
      }
    },
    {
      "cell_type": "code",
      "source": [
        "# Chart - 10 visualization code\n",
        "# Number of TV Shows vs Movies Over Years - Line Chart\n",
        "plt.figure(figsize=(10, 6))\n",
        "sns.countplot(data=data, x='year_added', hue='type', palette='Set2')\n",
        "plt.xticks(rotation=45)\n",
        "plt.title('TV Shows vs Movies Added Over the Years')\n",
        "plt.xlabel('Year Added')\n",
        "plt.ylabel('Count')\n",
        "plt.legend(title='Type')\n",
        "plt.show()\n"
      ],
      "metadata": {
        "id": "GM7a4YP4phqQ"
      },
      "execution_count": null,
      "outputs": []
    },
    {
      "cell_type": "markdown",
      "source": [
        "##### 1. Why did you pick the specific chart?"
      ],
      "metadata": {
        "id": "1M8mcRywphqQ"
      }
    },
    {
      "cell_type": "markdown",
      "source": [
        "To visualize how the balance of content types (TV vs Movie) has evolved over time."
      ],
      "metadata": {
        "id": "8agQvks0phqQ"
      }
    },
    {
      "cell_type": "markdown",
      "source": [
        "##### 2. What is/are the insight(s) found from the chart?"
      ],
      "metadata": {
        "id": "tgIPom80phqQ"
      }
    },
    {
      "cell_type": "markdown",
      "source": [
        "Movies were consistently added in greater numbers, but TV shows also saw a steady rise post-2015, showing growing interest in serial content."
      ],
      "metadata": {
        "id": "Qp13pnNzphqQ"
      }
    },
    {
      "cell_type": "markdown",
      "source": [
        "##### 3. Will the gained insights help creating a positive business impact?\n",
        "Are there any insights that lead to negative growth? Justify with specific reason."
      ],
      "metadata": {
        "id": "JMzcOPDDphqR"
      }
    },
    {
      "cell_type": "markdown",
      "source": [
        "Yes. If TV show additions plateau or decline, users who prefer long-form content may shift to competitors offering more episodic content."
      ],
      "metadata": {
        "id": "R4Ka1PC2phqR"
      }
    },
    {
      "cell_type": "markdown",
      "source": [
        "#### Chart - 11"
      ],
      "metadata": {
        "id": "x-EpHcCOp1ci"
      }
    },
    {
      "cell_type": "code",
      "source": [
        "# Chart - 11 visualization code\n",
        "# Top 10 Most Frequent Actors- Bar chart\n",
        "from collections import Counter\n",
        "\n",
        "# Flatten cast list and count\n",
        "cast_series = data['cast'].dropna().str.split(', ')\n",
        "flat_cast = [actor for sublist in cast_series for actor in sublist]\n",
        "top_actors = pd.Series(Counter(flat_cast)).nlargest(10)\n",
        "\n",
        "plt.figure(figsize=(10, 6))\n",
        "top_actors.plot(kind='bar', color='purple')\n",
        "plt.title('Top 10 Most Frequent Actors on Netflix')\n",
        "plt.xlabel('Actor')\n",
        "plt.ylabel('Number of Titles')\n",
        "plt.xticks(rotation=45)\n",
        "plt.show()\n"
      ],
      "metadata": {
        "id": "mAQTIvtqp1cj"
      },
      "execution_count": null,
      "outputs": []
    },
    {
      "cell_type": "markdown",
      "source": [
        "##### 1. Why did you pick the specific chart?"
      ],
      "metadata": {
        "id": "X_VqEhTip1ck"
      }
    },
    {
      "cell_type": "markdown",
      "source": [
        "It shows who the most common actors are and reflects Netflix’s casting patterns."
      ],
      "metadata": {
        "id": "-vsMzt_np1ck"
      }
    },
    {
      "cell_type": "markdown",
      "source": [
        "##### 2. What is/are the insight(s) found from the chart?"
      ],
      "metadata": {
        "id": "8zGJKyg5p1ck"
      }
    },
    {
      "cell_type": "markdown",
      "source": [
        "A few actors appear very frequently, suggesting partnerships or viewer popularity."
      ],
      "metadata": {
        "id": "ZYdMsrqVp1ck"
      }
    },
    {
      "cell_type": "markdown",
      "source": [
        "##### 3. Will the gained insights help creating a positive business impact?\n",
        "Are there any insights that lead to negative growth? Justify with specific reason."
      ],
      "metadata": {
        "id": "PVzmfK_Ep1ck"
      }
    },
    {
      "cell_type": "markdown",
      "source": [
        "Yes. Repetitive casting might limit creative diversity and reduce viewer interest in exploring new talents."
      ],
      "metadata": {
        "id": "druuKYZpp1ck"
      }
    },
    {
      "cell_type": "markdown",
      "source": [
        "#### Chart - 12"
      ],
      "metadata": {
        "id": "n3dbpmDWp1ck"
      }
    },
    {
      "cell_type": "code",
      "source": [
        "# Chart - 12 visualization code\n",
        "# Number of Titles by Release Year - Histogram\n",
        "plt.figure(figsize=(10, 6))\n",
        "sns.histplot(data['release_year'], bins=30, kde=True, color='teal')\n",
        "plt.title('Number of Titles by Release Year')\n",
        "plt.xlabel('Release Year')\n",
        "plt.ylabel('Number of Titles')\n",
        "plt.show()\n"
      ],
      "metadata": {
        "id": "bwevp1tKp1ck"
      },
      "execution_count": null,
      "outputs": []
    },
    {
      "cell_type": "markdown",
      "source": [
        "##### 1. Why did you pick the specific chart?"
      ],
      "metadata": {
        "id": "ylSl6qgtp1ck"
      }
    },
    {
      "cell_type": "markdown",
      "source": [
        "To analyze the age distribution of Netflix’s content."
      ],
      "metadata": {
        "id": "m2xqNkiQp1ck"
      }
    },
    {
      "cell_type": "markdown",
      "source": [
        "##### 2. What is/are the insight(s) found from the chart?"
      ],
      "metadata": {
        "id": "ZWILFDl5p1ck"
      }
    },
    {
      "cell_type": "markdown",
      "source": [
        "Most titles are from post-2000s, indicating a focus on modern content."
      ],
      "metadata": {
        "id": "x-lUsV2mp1ck"
      }
    },
    {
      "cell_type": "markdown",
      "source": [
        "##### 3. Will the gained insights help creating a positive business impact?\n",
        "Are there any insights that lead to negative growth? Justify with specific reason."
      ],
      "metadata": {
        "id": "M7G43BXep1ck"
      }
    },
    {
      "cell_type": "markdown",
      "source": [
        "Yes. Users interested in classic or vintage cinema may find the catalog lacking, potentially driving them to other platforms."
      ],
      "metadata": {
        "id": "5wwDJXsLp1cl"
      }
    },
    {
      "cell_type": "markdown",
      "source": [
        "#### Chart - 13"
      ],
      "metadata": {
        "id": "Ag9LCva-p1cl"
      }
    },
    {
      "cell_type": "code",
      "source": [
        "# Chart - 13 visualization code\n",
        "# Content Duration by Type- Boxplot\n",
        "plt.figure(figsize=(8, 5))\n",
        "sns.boxplot(x='type', y='duration_int', data=data)\n",
        "plt.title('Content Duration by Type')\n",
        "plt.xlabel('Type')\n",
        "plt.ylabel('Duration (minutes or seasons)')\n",
        "plt.show()\n"
      ],
      "metadata": {
        "id": "EUfxeq9-p1cl"
      },
      "execution_count": null,
      "outputs": []
    },
    {
      "cell_type": "markdown",
      "source": [
        "##### 1. Why did you pick the specific chart?"
      ],
      "metadata": {
        "id": "E6MkPsBcp1cl"
      }
    },
    {
      "cell_type": "markdown",
      "source": [
        "To compare typical duration ranges for Movies and TV Shows."
      ],
      "metadata": {
        "id": "V22bRsFWp1cl"
      }
    },
    {
      "cell_type": "markdown",
      "source": [
        "##### 2. What is/are the insight(s) found from the chart?"
      ],
      "metadata": {
        "id": "2cELzS2fp1cl"
      }
    },
    {
      "cell_type": "markdown",
      "source": [
        "Movies have varied lengths but tend to be under 150 minutes, while most TV shows have fewer than 5 seasons."
      ],
      "metadata": {
        "id": "ozQPc2_Ip1cl"
      }
    },
    {
      "cell_type": "markdown",
      "source": [
        "##### 3. Will the gained insights help creating a positive business impact?\n",
        "Are there any insights that lead to negative growth? Justify with specific reason."
      ],
      "metadata": {
        "id": "3MPXvC8up1cl"
      }
    },
    {
      "cell_type": "markdown",
      "source": [
        "Yes. Limited variation in duration might not cater to all preferences, especially binge-watchers or short-form content seekers."
      ],
      "metadata": {
        "id": "GL8l1tdLp1cl"
      }
    },
    {
      "cell_type": "markdown",
      "source": [
        "#### Chart - 14 - Correlation Heatmap"
      ],
      "metadata": {
        "id": "NC_X3p0fY2L0"
      }
    },
    {
      "cell_type": "code",
      "source": [
        "# Correlation Heatmap visualization code\n",
        "import matplotlib.pyplot as plt\n",
        "import seaborn as sns\n",
        "\n",
        "# Select only numeric columns for correlation\n",
        "numeric_data = data.select_dtypes(include=['number'])\n",
        "\n",
        "# Compute the correlation matrix\n",
        "corr_matrix = numeric_data.corr()\n",
        "\n",
        "# Plot the heatmap\n",
        "plt.figure(figsize=(8, 6))\n",
        "sns.heatmap(corr_matrix, annot=True, cmap='coolwarm', fmt='.2f', linewidths=0.5)\n",
        "plt.title('Correlation Heatmap')\n",
        "plt.show()\n",
        "\n"
      ],
      "metadata": {
        "id": "xyC9zolEZNRQ"
      },
      "execution_count": null,
      "outputs": []
    },
    {
      "cell_type": "markdown",
      "source": [
        "##### 1. Why did you pick the specific chart?"
      ],
      "metadata": {
        "id": "UV0SzAkaZNRQ"
      }
    },
    {
      "cell_type": "markdown",
      "source": [
        "A correlation heatmap is useful to visually identify relationships between numeric variables in the dataset. It allows us to quickly detect positive or negative correlations, which may not be obvious through summary statistics or basic observation."
      ],
      "metadata": {
        "id": "DVPuT8LYZNRQ"
      }
    },
    {
      "cell_type": "markdown",
      "source": [
        "##### 2. What is/are the insight(s) found from the chart?"
      ],
      "metadata": {
        "id": "YPEH6qLeZNRQ"
      }
    },
    {
      "cell_type": "markdown",
      "source": [
        "From the heatmap, we observe that:\n",
        "\n",
        "year_added and release_year have a weak positive correlation, suggesting some new content additions are recent productions.\n",
        "\n",
        "duration_int has minimal correlation with most other variables, indicating content length is fairly independent of release or addition year."
      ],
      "metadata": {
        "id": "bfSqtnDqZNRR"
      }
    },
    {
      "cell_type": "markdown",
      "source": [
        "#### Chart - 15 - Pair Plot"
      ],
      "metadata": {
        "id": "q29F0dvdveiT"
      }
    },
    {
      "cell_type": "code",
      "source": [
        "# Pair Plot visualization code\n",
        "import seaborn as sns\n",
        "import matplotlib.pyplot as plt\n",
        "\n",
        "# Selecting relevant numerical columns for pair plot\n",
        "num_cols = ['release_year', 'year_added', 'duration_int']\n",
        "\n",
        "# Drop rows with NaN values in selected columns\n",
        "pair_data = data[num_cols].dropna()\n",
        "\n",
        "# Create pairplot\n",
        "sns.pairplot(pair_data, diag_kind='kde')\n",
        "plt.suptitle(\"Pair Plot of Year Added, Release Year & Duration\", y=1.02)\n",
        "plt.show()\n"
      ],
      "metadata": {
        "id": "o58-TEIhveiU"
      },
      "execution_count": null,
      "outputs": []
    },
    {
      "cell_type": "markdown",
      "source": [
        "##### 1. Why did you pick the specific chart?"
      ],
      "metadata": {
        "id": "EXh0U9oCveiU"
      }
    },
    {
      "cell_type": "markdown",
      "source": [
        "The pair plot is chosen to analyze the relationships between multiple numeric variables at once. It provides both scatter plots and distribution plots, allowing us to assess pairwise interactions, outliers, and trends visually."
      ],
      "metadata": {
        "id": "eMmPjTByveiU"
      }
    },
    {
      "cell_type": "markdown",
      "source": [
        "##### 2. What is/are the insight(s) found from the chart?"
      ],
      "metadata": {
        "id": "22aHeOlLveiV"
      }
    },
    {
      "cell_type": "markdown",
      "source": [
        "Most content was added after 2015, as shown by a high density of year_added values post-2015.\n",
        "\n",
        "release_year shows a wide distribution, indicating Netflix adds content from various years, not just recent ones.\n",
        "\n",
        "duration_int (content length) shows no strong linear relationship with release or addition years, suggesting content length is not a factor tied to when it was released or added."
      ],
      "metadata": {
        "id": "uPQ8RGwHveiV"
      }
    },
    {
      "cell_type": "markdown",
      "source": [
        "## **5. Solution to Business Objective**"
      ],
      "metadata": {
        "id": "JcMwzZxoAimU"
      }
    },
    {
      "cell_type": "markdown",
      "source": [
        "#### What do you suggest the client to achieve Business Objective ?\n",
        "Explain Briefly."
      ],
      "metadata": {
        "id": "8G2x9gOozGDZ"
      }
    },
    {
      "cell_type": "markdown",
      "source": [
        "To achieve the business objective, the following actions are suggested:\n",
        "\n",
        "Enhance Content Curation: Focus more on popular genres like Drama, Comedy, and Documentaries, which are highly represented and well-received.\n",
        "\n",
        "Fill Data Gaps: Many records have missing values in key fields like director and cast. Netflix should improve metadata collection to enhance search, recommendations, and analytics.\n",
        "\n",
        "Diversify Regional Content: Since the majority of content is from the US, Netflix can invest more in acquiring or producing content from underrepresented regions to grow in those markets.\n",
        "\n",
        "Optimize Duration Strategy: Understanding that most successful movies fall within 90–120 minutes and most TV shows have 1–2 seasons can help tailor future content production.\n",
        "\n",
        "Monitor Trends: Content addition peaked around 2018–2020. Regular trend analysis can help identify content demand changes and help align future strategies."
      ],
      "metadata": {
        "id": "pASKb0qOza21"
      }
    },
    {
      "cell_type": "markdown",
      "source": [
        "# **Conclusion**"
      ],
      "metadata": {
        "id": "gCX9965dhzqZ"
      }
    },
    {
      "cell_type": "markdown",
      "source": [
        "The analysis of the Netflix dataset revealed important insights into content trends, viewer preferences, and potential gaps in the platform’s offerings. Movies dominate the content library, the US leads in content production, and popular genres include Drama and Comedy. Data wrangling improved dataset quality, enabling accurate analysis. These findings can guide Netflix in better content planning, strategic decision-making, and maintaining a competitive edge in the streaming industry."
      ],
      "metadata": {
        "id": "Fjb1IsQkh3yE"
      }
    },
    {
      "cell_type": "markdown",
      "source": [
        "### ***Hurrah! You have successfully completed your EDA Capstone Project !!!***"
      ],
      "metadata": {
        "id": "gIfDvo9L0UH2"
      }
    },
    {
      "cell_type": "code",
      "source": [],
      "metadata": {
        "id": "dYX880etpL0x"
      },
      "execution_count": null,
      "outputs": []
    },
    {
      "cell_type": "code",
      "source": [],
      "metadata": {
        "id": "-6Vl263upPVI"
      },
      "execution_count": null,
      "outputs": []
    }
  ]
}
